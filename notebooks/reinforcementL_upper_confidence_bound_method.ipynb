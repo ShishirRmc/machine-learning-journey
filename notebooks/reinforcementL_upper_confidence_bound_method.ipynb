{
  "nbformat": 4,
  "nbformat_minor": 0,
  "metadata": {
    "colab": {
      "provenance": []
    },
    "kernelspec": {
      "name": "python3",
      "display_name": "Python 3"
    },
    "language_info": {
      "name": "python"
    }
  },
  "cells": [
    {
      "cell_type": "code",
      "execution_count": 1,
      "metadata": {
        "id": "4OZvmcptDhq6"
      },
      "outputs": [],
      "source": [
        "import pandas as pd\n",
        "import numpy as np\n",
        "import matplotlib.pyplot as plt\n"
      ]
    },
    {
      "cell_type": "code",
      "source": [
        "df = pd.read_csv(\n",
        "   'Ads_CTR_Optimisation.csv'\n",
        ")"
      ],
      "metadata": {
        "id": "yVH4F0elD1YE"
      },
      "execution_count": 2,
      "outputs": []
    },
    {
      "cell_type": "code",
      "source": [
        "df.info()"
      ],
      "metadata": {
        "colab": {
          "base_uri": "https://localhost:8080/"
        },
        "id": "bTSfpAABD852",
        "outputId": "63d99623-d48f-41cd-f9f9-d86fb153da13"
      },
      "execution_count": 3,
      "outputs": [
        {
          "output_type": "stream",
          "name": "stdout",
          "text": [
            "<class 'pandas.core.frame.DataFrame'>\n",
            "RangeIndex: 10000 entries, 0 to 9999\n",
            "Data columns (total 10 columns):\n",
            " #   Column  Non-Null Count  Dtype\n",
            "---  ------  --------------  -----\n",
            " 0   Ad 1    10000 non-null  int64\n",
            " 1   Ad 2    10000 non-null  int64\n",
            " 2   Ad 3    10000 non-null  int64\n",
            " 3   Ad 4    10000 non-null  int64\n",
            " 4   Ad 5    10000 non-null  int64\n",
            " 5   Ad 6    10000 non-null  int64\n",
            " 6   Ad 7    10000 non-null  int64\n",
            " 7   Ad 8    10000 non-null  int64\n",
            " 8   Ad 9    10000 non-null  int64\n",
            " 9   Ad 10   10000 non-null  int64\n",
            "dtypes: int64(10)\n",
            "memory usage: 781.4 KB\n"
          ]
        }
      ]
    },
    {
      "cell_type": "code",
      "source": [
        "import math"
      ],
      "metadata": {
        "id": "dqDx70y8EjXr"
      },
      "execution_count": 4,
      "outputs": []
    },
    {
      "cell_type": "code",
      "source": [
        "n = len(df.columns)\n",
        "N = 10000\n",
        "ads_selected = []\n",
        "no_of_selections = [0] * n\n",
        "sum_of_rewards = [0] * n\n",
        "total_reward = 0\n",
        "\n",
        "for i in range(0, N):\n",
        "  ad = 0\n",
        "  max_upper_bound = 0\n",
        "  for j in range(0,n):\n",
        "    if (no_of_selections[j] > 0):\n",
        "      r = sum_of_rewards[j] / no_of_selections[j]\n",
        "      delta_i = math.sqrt(3/2 * math.log(j+1) / sum_of_rewards[j])\n",
        "      upper_bound = r + delta_i\n",
        "\n",
        "    else:\n",
        "      upper_bound = 1e400\n",
        "\n",
        "    if (upper_bound > max_upper_bound):\n",
        "      max_upper_bound = upper_bound\n",
        "      ad = j\n",
        "\n",
        "    ads_selected.append(ad)\n",
        "    no_of_selections[ad] += 1\n",
        "    reward = df.values[i, ad]\n",
        "    sum_of_rewards[ad] += reward\n",
        "    total_reward += reward\n",
        "\n",
        "print(total_reward)\n",
        "print(sum_of_rewards)\n",
        "\n",
        "\n"
      ],
      "metadata": {
        "colab": {
          "base_uri": "https://localhost:8080/"
        },
        "id": "CtYSj5qKEtR3",
        "outputId": "f7377663-9710-49a8-dfd4-de0061d1d60f"
      },
      "execution_count": 10,
      "outputs": [
        {
          "output_type": "stream",
          "name": "stderr",
          "text": [
            "<ipython-input-10-58ad867acef8>:14: RuntimeWarning: divide by zero encountered in divide\n",
            "  delta_i = math.sqrt(3/2 * math.log(j+1) / sum_of_rewards[j])\n"
          ]
        },
        {
          "output_type": "stream",
          "name": "stdout",
          "text": [
            "20557\n",
            "[4262, 587, 199, 885, 13697, 38, 107, 622, 99, 61]\n"
          ]
        }
      ]
    },
    {
      "cell_type": "code",
      "source": [],
      "metadata": {
        "id": "jbLkE3IssUE6"
      },
      "execution_count": null,
      "outputs": []
    },
    {
      "cell_type": "markdown",
      "source": [
        "##above program implements the **Upper Confidence Bound (UCB)** algorithm to solve the Multi-Armed Bandit problem. It selects ads over `N` rounds, balancing exploration (trying new ads) and exploitation (focusing on high-performing ads) to maximize rewards. The code calculates an upper bound for each ad, selects the best one, and updates the selection and reward data iteratively."
      ],
      "metadata": {
        "id": "8XP-R51ms9ll"
      }
    },
    {
      "cell_type": "code",
      "source": [
        "plt.hist(ads_selected)\n",
        "plt.title('Histogram of ads selections')\n",
        "plt.xlabel('Ads')\n",
        "plt.ylabel('Number of times each ad was selected')\n"
      ],
      "metadata": {
        "id": "H2Xu_sVUE717",
        "colab": {
          "base_uri": "https://localhost:8080/",
          "height": 489
        },
        "outputId": "610f9511-421e-487d-c71e-b59d8ebed138"
      },
      "execution_count": 14,
      "outputs": [
        {
          "output_type": "execute_result",
          "data": {
            "text/plain": [
              "Text(0, 0.5, 'Number of times each ad was selected')"
            ]
          },
          "metadata": {},
          "execution_count": 14
        },
        {
          "output_type": "display_data",
          "data": {
            "text/plain": [
              "<Figure size 640x480 with 1 Axes>"
            ],
            "image/png": "[encoded data removed]"
          },
          "metadata": {}
        }
      ]
    },
    {
      "cell_type": "markdown",
      "source": [
        "###name"
      ],
      "metadata": {
        "id": "81yl5IM5M3M8"
      }
    },
    {
      "cell_type": "code",
      "source": [],
      "metadata": {
        "id": "6UsogkkRM5E2"
      },
      "execution_count": null,
      "outputs": []
    }
  ]
}